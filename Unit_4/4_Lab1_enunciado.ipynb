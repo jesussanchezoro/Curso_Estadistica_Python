{
  "nbformat": 4,
  "nbformat_minor": 0,
  "metadata": {
    "colab": {
      "provenance": []
    },
    "kernelspec": {
      "name": "python3",
      "display_name": "Python 3"
    },
    "language_info": {
      "name": "python"
    }
  },
  "cells": [
    {
      "cell_type": "markdown",
      "source": [
        "# Práctica: Intervalos de confianza\n",
        "\n",
        "## 1. Repaso de estadística\n",
        "\n",
        "Trabajamos con un banco de datos reales procedente del registro oficial de Ames, una ciudad del estado americano de Iowa. Estos datos son un registro exhaustivo de las viviendas vendidas en la ciudad entre 2006 y 2015 que incluye diversa información sobre cada venta.\n",
        "\n",
        "Comenzamos cargando los datos:"
      ],
      "metadata": {
        "id": "BF-XKyS4A37p"
      }
    },
    {
      "cell_type": "code",
      "source": [
        "!pip install seaborn"
      ],
      "metadata": {
        "colab": {
          "base_uri": "https://localhost:8080/"
        },
        "id": "w8SRcSleFFnI",
        "outputId": "886b7267-c3cc-44ff-dccc-eac0fb041a02"
      },
      "execution_count": null,
      "outputs": [
        {
          "output_type": "stream",
          "name": "stdout",
          "text": [
            "Requirement already satisfied: seaborn in /usr/local/lib/python3.12/dist-packages (0.13.2)\n",
            "Requirement already satisfied: numpy!=1.24.0,>=1.20 in /usr/local/lib/python3.12/dist-packages (from seaborn) (2.0.2)\n",
            "Requirement already satisfied: pandas>=1.2 in /usr/local/lib/python3.12/dist-packages (from seaborn) (2.2.2)\n",
            "Requirement already satisfied: matplotlib!=3.6.1,>=3.4 in /usr/local/lib/python3.12/dist-packages (from seaborn) (3.10.0)\n",
            "Requirement already satisfied: contourpy>=1.0.1 in /usr/local/lib/python3.12/dist-packages (from matplotlib!=3.6.1,>=3.4->seaborn) (1.3.3)\n",
            "Requirement already satisfied: cycler>=0.10 in /usr/local/lib/python3.12/dist-packages (from matplotlib!=3.6.1,>=3.4->seaborn) (0.12.1)\n",
            "Requirement already satisfied: fonttools>=4.22.0 in /usr/local/lib/python3.12/dist-packages (from matplotlib!=3.6.1,>=3.4->seaborn) (4.60.1)\n",
            "Requirement already satisfied: kiwisolver>=1.3.1 in /usr/local/lib/python3.12/dist-packages (from matplotlib!=3.6.1,>=3.4->seaborn) (1.4.9)\n",
            "Requirement already satisfied: packaging>=20.0 in /usr/local/lib/python3.12/dist-packages (from matplotlib!=3.6.1,>=3.4->seaborn) (25.0)\n",
            "Requirement already satisfied: pillow>=8 in /usr/local/lib/python3.12/dist-packages (from matplotlib!=3.6.1,>=3.4->seaborn) (11.3.0)\n",
            "Requirement already satisfied: pyparsing>=2.3.1 in /usr/local/lib/python3.12/dist-packages (from matplotlib!=3.6.1,>=3.4->seaborn) (3.2.5)\n",
            "Requirement already satisfied: python-dateutil>=2.7 in /usr/local/lib/python3.12/dist-packages (from matplotlib!=3.6.1,>=3.4->seaborn) (2.9.0.post0)\n",
            "Requirement already satisfied: pytz>=2020.1 in /usr/local/lib/python3.12/dist-packages (from pandas>=1.2->seaborn) (2025.2)\n",
            "Requirement already satisfied: tzdata>=2022.7 in /usr/local/lib/python3.12/dist-packages (from pandas>=1.2->seaborn) (2025.2)\n",
            "Requirement already satisfied: six>=1.5 in /usr/local/lib/python3.12/dist-packages (from python-dateutil>=2.7->matplotlib!=3.6.1,>=3.4->seaborn) (1.17.0)\n"
          ]
        }
      ]
    },
    {
      "cell_type": "code",
      "source": [
        "import pandas as pd\n",
        "import seaborn as sb"
      ],
      "metadata": {
        "id": "e0cM63a1FC62"
      },
      "execution_count": null,
      "outputs": []
    },
    {
      "cell_type": "code",
      "source": [],
      "metadata": {
        "id": "XX9dMnlHddQb"
      },
      "execution_count": null,
      "outputs": []
    },
    {
      "cell_type": "markdown",
      "source": [
        "Nos centraremos en la variable (Gr.Liv.Area) que indica la superficie de las viviendas vendidas en Ames a la que, por sencillez renombraremos como superficie. Aprovechamos también para trabajar con $m^2$ como unidad de superficie y no pies cuadrados, que es la unidad utilizada en los datos originales (1 pie cuadrado= 0.09290304 $m^2$)."
      ],
      "metadata": {
        "id": "xKrFZ8cWCZsv"
      }
    },
    {
      "cell_type": "code",
      "source": [],
      "metadata": {
        "id": "dmmGEGppdfdA"
      },
      "execution_count": null,
      "outputs": []
    },
    {
      "cell_type": "markdown",
      "source": [
        "Hasta el momento hemos aprendido cómo es la distribución en el muestreo de la variable $\\bar{X}$ (quién es su esperanza y quién su varianza). Hemos aprendido cómo estimar con un valor la media poblacional, $\\mu$ y la varianza $\\sigma^2$, y cómo calcular un intervalo de confianza para $\\mu$ con la confianza deseada:\n",
        "\n",
        "Dada una población con media $\\mu$ y desviación típica $\\sigma$. Entonces, si la distribución de $\\bar{X}$ es normal, siempre podemos calcular el intervalo de confianza al $(1−\\alpha)\\%$ de confianza para $\\mu$ como:\n",
        "\n",
        "$$\n",
        "IC^{100(1-\\alpha)\\%}(\\mu) = \\left[ \\bar{x} - t_{\\alpha / 2} \\dfrac{s}{\\sqrt{n}}, \\bar{x} + t_{\\alpha / 2} \\dfrac{s}{\\sqrt{n}} \\right]\n",
        "$$\n",
        "\n",
        "donde $t_{\\alpha / 2}$ denota al percentil $1−\\alpha/2$ de una distribución t-Student con $n−1$ grados de libertad.\n",
        "\n",
        "En el caso improbable de conocer $\\sigma$, podríamos calcular el Intervalo sustituyendo en la expresión anterior $s$ por el $\\sigma$ y usando la distribución normal para el cálculo de percentiles.\n",
        "\n",
        "Realizaremos nuestra práctica utilizando los datos de superficie de la base ames y contestando a las preguntas del ejercicio siguiente. Nota que nos hemos dado el lujo de conocer la población, de modo que podemos hacer comprobaciones. Nota también que el banco de datos tiene suficientes datos (2930) para\n",
        "poder hacer comprobaciones serias."
      ],
      "metadata": {
        "id": "F130vhpHDSKZ"
      }
    },
    {
      "cell_type": "markdown",
      "source": [
        "1. Describimos la población correspondiente a la variable superficie. Aquí, la media ¿es un parámetro o un estadístico? ¿Hay mucha variabilidad entre las viviendas vendidas en Ames entre 2006 y 2015? ¿Podrías proponer una distribución de probabilidad adecuada para superficie?"
      ],
      "metadata": {
        "id": "voIRLcudEnp0"
      }
    },
    {
      "cell_type": "code",
      "source": [],
      "metadata": {
        "id": "9jJP_TFcdkcX"
      },
      "execution_count": null,
      "outputs": []
    },
    {
      "cell_type": "markdown",
      "source": [
        "2. Obtenemos una muestra de tamaño n= 50 de la variable superficie usando el comando sample y la describimos. Proporciona un estimador puntual de $\\mu= 139.3258013$ y de $\\sigma= 46.9633124$ en base a la muestra."
      ],
      "metadata": {
        "id": "WtoFyQMiFos2"
      }
    },
    {
      "cell_type": "code",
      "source": [],
      "metadata": {
        "id": "zCqr41p5dmmC"
      },
      "execution_count": null,
      "outputs": []
    },
    {
      "cell_type": "markdown",
      "source": [
        "3. Calculamos un intervalo de confianza al 95 % para $\\mu$ ¿Puedes calcular tú uno al 99 % de confianza? ¿qué observas?"
      ],
      "metadata": {
        "id": "2wFuHUdlGeV3"
      }
    },
    {
      "cell_type": "code",
      "source": [],
      "metadata": {
        "id": "aoKmxTZOdnjb"
      },
      "execution_count": null,
      "outputs": []
    },
    {
      "cell_type": "markdown",
      "source": [
        "4. Vamos a simular M = 1000 muestras de tamaño 50 y vamos a dibujar los intervalos simulados del 95% ¿Te cuadra el % de fallo? ¿A quien corresponde?. Repite varias veces el código antes de contestar"
      ],
      "metadata": {
        "id": "2ak7xyYNHMwv"
      }
    },
    {
      "cell_type": "code",
      "source": [],
      "metadata": {
        "id": "5rBrEj60do5O"
      },
      "execution_count": null,
      "outputs": []
    },
    {
      "cell_type": "markdown",
      "source": [
        "5. Realiza la misma operación pero con M= 10, 25, y 50. ¿puedes decir algo de la proporción la cantidad que obtendrías con la simulación fIC(n=200, M=100, confi=0.90)?"
      ],
      "metadata": {
        "id": "74gfVpieJObw"
      }
    },
    {
      "cell_type": "code",
      "source": [],
      "metadata": {
        "id": "8lPtApOwdpzZ"
      },
      "execution_count": null,
      "outputs": []
    },
    {
      "cell_type": "markdown",
      "source": [
        "6. ¿Qué sucede con la media y la desviación típica que obtienes para $n=10$, para $n=50$, y para $n=200$?"
      ],
      "metadata": {
        "id": "lF5q3BBSKwWy"
      }
    },
    {
      "cell_type": "code",
      "source": [],
      "metadata": {
        "id": "7TuVPDbbdq6s"
      },
      "execution_count": null,
      "outputs": []
    },
    {
      "cell_type": "markdown",
      "source": [
        "Vamos a simular M = 5000 muestras de tamaño [10, 25, 50, 200] y vamos a dibujar los intervalos simulados del 95%"
      ],
      "metadata": {
        "id": "HKyxxLVVNyoM"
      }
    },
    {
      "cell_type": "code",
      "source": [],
      "metadata": {
        "id": "ZovFpr2fds0i"
      },
      "execution_count": null,
      "outputs": []
    },
    {
      "cell_type": "markdown",
      "source": [
        "## 2. Algunas funciones útiles\n",
        "\n",
        "### 2.1 Normalidad\n",
        "\n",
        "Cuando $n$ no es suficientemente grande para poder asumir la normalidad de $\\bar{X}$ en virtud del TCL, es decir $n \\leq 30$, sólo podremos hacer intervalos de confianza para $\\mu$ en el caso en que la variable original ya fuera normal. Nunca conoceremos esa variable para poder comprobarlo de manera definitiva, lo que sí podemos hacer ver si nuestra muestra lo sugiere. Podemos basarnos en su histograma para ello. Pero puede ayudar más el llamado `qqplot`. Esto no es más que representar los percentiles de la muestra frente a los percentiles teóricos que resultarían de la variable normal que tiene la misma media y desviación\n",
        "típica. Si la muestra se comporta \"normalmente\" los percentiles debería coincidir y por tanto los puntos caerían en la diagonal de la figura.\n",
        "\n",
        "Supongamos el caso de que nuestra muestra de la variable superficie, fuera de tamaño $n= 25$. Con este tamaño, no podíamos garantizar la normalidad de $\\bar{X}$, exploraríamos la normalidad de $X$ usando nuestra muestra. A veces no es sencillo tomar una decisión en base a este tipo de gráficos, próximamente\n",
        "introduciremos una herramienta que hace la decisión más fácil (test de Shapiro), aunque tampoco está exenta de limitaciones."
      ],
      "metadata": {
        "id": "JpY50CgdPftI"
      }
    },
    {
      "cell_type": "code",
      "source": [],
      "metadata": {
        "id": "NdooChu8duAu"
      },
      "execution_count": null,
      "outputs": []
    },
    {
      "cell_type": "markdown",
      "source": [
        "### 2. La función t.test\n",
        "\n",
        "Como hemos visto en esta práctica, calcular ICs sólo implica unos pocos cálculos, pero incluso esos podemos ahorrarnoslos con el test t de una muestra. Esta función está diseñada para hacer contrastes de hipótesis, y pronto la aprenderemos en detalle para ello. Por ahora basta saber que si la aplicamos a\n",
        "unos datos en su versión por defecto, nos dará, entre otras cosas, el intervalo de confianza al 95 % para esos datos."
      ],
      "metadata": {
        "id": "xhXxc0rUQYUR"
      }
    },
    {
      "cell_type": "code",
      "source": [],
      "metadata": {
        "id": "rfBMS8Eldwz2"
      },
      "execution_count": null,
      "outputs": []
    },
    {
      "cell_type": "markdown",
      "source": [
        "Puedes comprobar que el intervalo coincide exactamente con el que habíamos calculado en la pregunta 4. Si quisieramos calcular el intervalo con otro nivel de confianza, por ejemplo el 99 % podemos hacerlo especificando el nuevo valor de $\\alpha$:"
      ],
      "metadata": {
        "id": "PGO6HS1QQ86F"
      }
    },
    {
      "cell_type": "code",
      "source": [],
      "metadata": {
        "id": "mlFlQCftdySE"
      },
      "execution_count": null,
      "outputs": []
    },
    {
      "cell_type": "markdown",
      "source": [
        "# Práctica 2: Base de datos *Seatbelts*\n",
        "\n",
        "La base *Seatbelts* recoge el número de conductores fallecidos o heridos seriamente en UK entre 1969 y 1984. La obligatoriedad del uso del cinturón de seguridad al volante se reguló en enero de 1983. Los datos están disponibles en el fichero `seatbelts.csv`. Queremos trabajar por separado con los datos de antes y después de la ley por lo que generaremos dos bases de datos a partir de la original:"
      ],
      "metadata": {
        "id": "csxM1MXPRXHh"
      }
    },
    {
      "cell_type": "code",
      "source": [],
      "metadata": {
        "id": "qCb6VQ_WdzTv"
      },
      "execution_count": null,
      "outputs": []
    },
    {
      "cell_type": "markdown",
      "source": [
        "1. Obtén un intervalo de confianza para el número de accidentes graves (variable DriversKilled) al 90% de confianza antes y después de la implementación de la ley."
      ],
      "metadata": {
        "id": "M93iEQWBSDPI"
      }
    },
    {
      "cell_type": "code",
      "source": [],
      "metadata": {
        "id": "peKxFDdTd0Kp"
      },
      "execution_count": null,
      "outputs": []
    },
    {
      "cell_type": "markdown",
      "source": [
        "2. Obtén un intervalo de confianza para el número de accidentes graves con furgonetas (variable VanKilled) al 90% de confianza antes y después de la implementación de la ley."
      ],
      "metadata": {
        "id": "clb8DK-jSUue"
      }
    },
    {
      "cell_type": "code",
      "source": [],
      "metadata": {
        "id": "tNJ4k5Oid05z"
      },
      "execution_count": null,
      "outputs": []
    },
    {
      "cell_type": "markdown",
      "source": [
        "3. Obtén un intervalo de confianza para la distancia recorrida (variable kms) al 90% de confianza antes y después de la implementación de la ley."
      ],
      "metadata": {
        "id": "rLrMrUQ8Sb0t"
      }
    },
    {
      "cell_type": "code",
      "source": [],
      "metadata": {
        "id": "kG-ikR5ed10i"
      },
      "execution_count": null,
      "outputs": []
    },
    {
      "cell_type": "markdown",
      "source": [
        "4. Valora qué intervalos de los calculados en los apartados anteriores podrían no ser válidos."
      ],
      "metadata": {
        "id": "dkPxSdj2SjqX"
      }
    },
    {
      "cell_type": "code",
      "source": [],
      "metadata": {
        "id": "WoQjNjJjd5m4"
      },
      "execution_count": null,
      "outputs": []
    },
    {
      "cell_type": "markdown",
      "source": [
        "## Práctica 3: Base de datos *absenteeism*\n",
        "\n",
        "La base abseenteism recoge datos sobre absentismo escolar en una muestra de niños australianos."
      ],
      "metadata": {
        "id": "UKB76EyvTeyj"
      }
    },
    {
      "cell_type": "code",
      "source": [],
      "metadata": {
        "id": "49xEwIB2d6pv"
      },
      "execution_count": null,
      "outputs": []
    },
    {
      "cell_type": "markdown",
      "source": [
        "1. Indica si la variable `days_absent`, que cuenta los días en que el niño no ha asistido a la escuela a lo largo del curso, es asumible normal."
      ],
      "metadata": {
        "id": "a3brGsBtTwZG"
      }
    },
    {
      "cell_type": "code",
      "source": [],
      "metadata": {
        "id": "Mc4ha99nd8eJ"
      },
      "execution_count": null,
      "outputs": []
    },
    {
      "cell_type": "markdown",
      "source": [
        "2. Proporciona una estimación puntual para el número medio poblacional de días que los niños faltaron al colegio y obtén el intervalo de confianza al 95% para dicha media poblacional"
      ],
      "metadata": {
        "id": "JNCkj8kCUJxB"
      }
    },
    {
      "cell_type": "code",
      "source": [],
      "metadata": {
        "id": "7bzju8ldd-Dm"
      },
      "execution_count": null,
      "outputs": []
    },
    {
      "cell_type": "markdown",
      "source": [
        "3. ¿Crees que es razonable afirmar que la media poblacional de dias de ausencia fue 12? ¿De qué magnitud es el error que podrías estar cometiendo con tu afirmación?"
      ],
      "metadata": {
        "id": "2fL2YHAVU-LV"
      }
    },
    {
      "cell_type": "code",
      "source": [],
      "metadata": {
        "id": "QlRdLvcEd_Kb"
      },
      "execution_count": null,
      "outputs": []
    },
    {
      "cell_type": "markdown",
      "source": [
        "Idem para los siguientes casos:\n",
        "1. Para el conjunto de niños aborígenes `(eth== ’A’)`.\n",
        "2. Para el conjunto de niños más pequeños `(age== ’F0’)`.\n",
        "3. Para el conjunto de niñas aborígenes `(sex== ’F’ & eth== ’A’)`."
      ],
      "metadata": {
        "id": "x8S2yvPzVX5o"
      }
    },
    {
      "cell_type": "code",
      "source": [],
      "metadata": {
        "id": "IjQlU3qGeC2b"
      },
      "execution_count": null,
      "outputs": []
    }
  ]
}